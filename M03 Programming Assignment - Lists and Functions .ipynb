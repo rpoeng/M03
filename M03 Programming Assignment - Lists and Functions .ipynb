{
 "cells": [
  {
   "cell_type": "code",
   "execution_count": null,
   "id": "0c6760d6",
   "metadata": {},
   "outputs": [],
   "source": [
    "#Robert K Poeng\n",
    "#M03 Programming Assignment\n",
    "#List and Functions\n"
   ]
  },
  {
   "cell_type": "code",
   "execution_count": null,
   "id": "a6dbbe3c",
   "metadata": {},
   "outputs": [],
   "source": [
    "#Section 7.4 - 7.7"
   ]
  },
  {
   "cell_type": "code",
   "execution_count": null,
   "id": "0a88b73b",
   "metadata": {},
   "outputs": [],
   "source": [
    "#7.4 Make and print a list called things with these three strings as elements: \"mozzarella\", \"cinderella\", \"salmonella\"."
   ]
  },
  {
   "cell_type": "code",
   "execution_count": 1,
   "id": "cb91f37d",
   "metadata": {},
   "outputs": [
    {
     "data": {
      "text/plain": [
       "['mozzarella', 'cinderella', 'salmonella']"
      ]
     },
     "execution_count": 1,
     "metadata": {},
     "output_type": "execute_result"
    }
   ],
   "source": [
    "things = [\"mozzarella\", \"cinderella\", \"salmonella\"]\n",
    "things"
   ]
  },
  {
   "cell_type": "code",
   "execution_count": null,
   "id": "9c302808",
   "metadata": {},
   "outputs": [],
   "source": [
    "#7.5 Capitalize the element in things that refers to a person and then print the list. Did it change the element in the list?"
   ]
  },
  {
   "cell_type": "code",
   "execution_count": 7,
   "id": "ea7986e4",
   "metadata": {},
   "outputs": [
    {
     "data": {
      "text/plain": [
       "'Cinderella'"
      ]
     },
     "execution_count": 7,
     "metadata": {},
     "output_type": "execute_result"
    }
   ],
   "source": [
    "things[1].capitalize() #Just like the index in C++ counter will start at '0' so mozzarella = 0, cinderella = 1, salmonella = 2."
   ]
  },
  {
   "cell_type": "code",
   "execution_count": 8,
   "id": "847dc3b0",
   "metadata": {},
   "outputs": [
    {
     "data": {
      "text/plain": [
       "['mozzarella', 'cinderella', 'salmonella']"
      ]
     },
     "execution_count": 8,
     "metadata": {},
     "output_type": "execute_result"
    }
   ],
   "source": [
    "things"
   ]
  },
  {
   "cell_type": "code",
   "execution_count": null,
   "id": "515c068d",
   "metadata": {},
   "outputs": [],
   "source": [
    "#It did not change the element in the list."
   ]
  },
  {
   "cell_type": "code",
   "execution_count": null,
   "id": "87f209d8",
   "metadata": {},
   "outputs": [],
   "source": [
    "#7.6 Make the cheesy element of things all uppercase and then print the list."
   ]
  },
  {
   "cell_type": "code",
   "execution_count": 9,
   "id": "253684e8",
   "metadata": {},
   "outputs": [
    {
     "data": {
      "text/plain": [
       "['MOZZARELLA', 'cinderella', 'salmonella']"
      ]
     },
     "execution_count": 9,
     "metadata": {},
     "output_type": "execute_result"
    }
   ],
   "source": [
    "things[0] = things[0].upper()\n",
    "things"
   ]
  },
  {
   "cell_type": "code",
   "execution_count": null,
   "id": "a50f141a",
   "metadata": {},
   "outputs": [],
   "source": [
    "#7.7 Delete the disease element, collect your Nobel Prize, and then print the list."
   ]
  },
  {
   "cell_type": "code",
   "execution_count": 10,
   "id": "e04891cc",
   "metadata": {},
   "outputs": [
    {
     "data": {
      "text/plain": [
       "['MOZZARELLA', 'cinderella']"
      ]
     },
     "execution_count": 10,
     "metadata": {},
     "output_type": "execute_result"
    }
   ],
   "source": [
    "things.remove(\"salmonella\")\n",
    "things"
   ]
  },
  {
   "cell_type": "code",
   "execution_count": null,
   "id": "47697c74",
   "metadata": {},
   "outputs": [],
   "source": []
  },
  {
   "cell_type": "code",
   "execution_count": null,
   "id": "4634efb4",
   "metadata": {},
   "outputs": [],
   "source": [
    "#Section 9.1 & 9.2"
   ]
  },
  {
   "cell_type": "code",
   "execution_count": null,
   "id": "840dae7e",
   "metadata": {},
   "outputs": [],
   "source": [
    "#9.1 Define a function called good() that returns the following list: ['Harry', 'Ron', 'Hermione']."
   ]
  },
  {
   "cell_type": "code",
   "execution_count": null,
   "id": "814552fb",
   "metadata": {},
   "outputs": [],
   "source": [
    "#function start with 'def'"
   ]
  },
  {
   "cell_type": "code",
   "execution_count": 12,
   "id": "7ce5c8e7",
   "metadata": {},
   "outputs": [
    {
     "data": {
      "text/plain": [
       "['Harry', 'Ron', 'Herminone']"
      ]
     },
     "execution_count": 12,
     "metadata": {},
     "output_type": "execute_result"
    }
   ],
   "source": [
    "def good():\n",
    "    return ['Harry','Ron', 'Herminone']\n",
    "good() #When calling a function, do not forget the '()' at the end."
   ]
  },
  {
   "cell_type": "code",
   "execution_count": null,
   "id": "5716a1b8",
   "metadata": {},
   "outputs": [],
   "source": [
    "#9.2 Define a generator function called get_odds() that returns the odd numbers from range(10). \n",
    "#Use a for loop to find and print the third value returned."
   ]
  },
  {
   "cell_type": "code",
   "execution_count": 13,
   "id": "d2487ff9",
   "metadata": {},
   "outputs": [
    {
     "name": "stdout",
     "output_type": "stream",
     "text": [
      "The third odd number is 5\n"
     ]
    }
   ],
   "source": [
    "def get_odds(): #Starting function\n",
    "    for number in range(1,10,2): #Establish range\n",
    "        yield number # using yield instead of break allows the function execution to be suspended.\n",
    "        # however, it also allows it to be resume where it left off.\n",
    "        #allowing to produce values overtime instead of all at once.\n",
    "\n",
    "count = 1\n",
    "for number in get_odds():\n",
    "    if count == 3:\n",
    "        print(\"The third odd number is\", number)\n",
    "        break\n",
    "    count += 1"
   ]
  },
  {
   "cell_type": "code",
   "execution_count": null,
   "id": "0d0599b1",
   "metadata": {},
   "outputs": [],
   "source": []
  }
 ],
 "metadata": {
  "kernelspec": {
   "display_name": "Python 3 (ipykernel)",
   "language": "python",
   "name": "python3"
  },
  "language_info": {
   "codemirror_mode": {
    "name": "ipython",
    "version": 3
   },
   "file_extension": ".py",
   "mimetype": "text/x-python",
   "name": "python",
   "nbconvert_exporter": "python",
   "pygments_lexer": "ipython3",
   "version": "3.11.5"
  }
 },
 "nbformat": 4,
 "nbformat_minor": 5
}
